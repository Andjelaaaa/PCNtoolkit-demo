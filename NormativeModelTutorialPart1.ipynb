{
 "cells": [
  {
   "cell_type": "markdown",
   "metadata": {},
   "source": [
    "# [Predictive Clinical Neuroscience Toolkit](https://github.com/amarquand/PCNtoolkit) \n",
    "# Normative Modeling Tutorial Using Multi-Site Cortical Thickness Data\n",
    "# Part 1: Data preprocessing"
   ]
  },
  {
   "cell_type": "markdown",
   "metadata": {},
   "source": [
    "### Created by [Saige Rutherford](https://twitter.com/being_saige) "
   ]
  },
  {
   "cell_type": "markdown",
   "metadata": {},
   "source": [
    "<div>\n",
    "<img src=\"data/NormModelSetup.png\" width=\"500\"/>\n",
    "</div>"
   ]
  },
  {
   "cell_type": "markdown",
   "metadata": {},
   "source": [
    "## Step 0: Install necessary libraries & grab data files"
   ]
  },
  {
   "cell_type": "code",
   "execution_count": null,
   "metadata": {
    "collapsed": false,
    "jupyter": {
     "outputs_hidden": false
    },
    "pycharm": {
     "name": "#%%\n"
    }
   },
   "outputs": [],
   "source": [
    "! wget -nc https://raw.githubusercontent.com/saigerutherford/PCNToolkit-demo/blob/main/requirements.txt"
   ]
  },
  {
   "cell_type": "code",
   "execution_count": null,
   "metadata": {
    "collapsed": false,
    "jupyter": {
     "outputs_hidden": false
    },
    "pycharm": {
     "name": "#%%\n"
    }
   },
   "outputs": [],
   "source": [
    "! pip install -r requirements.txt"
   ]
  },
  {
   "cell_type": "code",
   "execution_count": null,
   "metadata": {
    "collapsed": false,
    "jupyter": {
     "outputs_hidden": false
    },
    "pycharm": {
     "name": "#%%\n"
    }
   },
   "outputs": [],
   "source": [
    "! wget -nc https://raw.githubusercontent.com/saigerutherford/PCNToolkit-demo/blob/main/data/*.csv"
   ]
  },
  {
   "cell_type": "code",
   "execution_count": null,
   "metadata": {
    "collapsed": false,
    "jupyter": {
     "outputs_hidden": false
    },
    "pycharm": {
     "name": "#%%\n"
    }
   },
   "outputs": [],
   "source": [
    "! wget -nc https://raw.githubusercontent.com/saigerutherford/PCNToolkit-demo/blob/main/data/roi_dir_names"
   ]
  },
  {
   "cell_type": "markdown",
   "metadata": {},
   "source": [
    "## Step 1: Prepare covariate data"
   ]
  },
  {
   "cell_type": "markdown",
   "metadata": {},
   "source": [
    "For this tutorial we will use data from the [Human Connectome Project Young Adult study](https://www.humanconnectome.org/study/hcp-young-adult), [CAMCAN](https://www.cam-can.org/), and [IXI](https://brain-development.org/ixi-dataset/) to create a multi-site dataset. \n",
    "\n",
    "Our first step is to prepare and combine the covariate (age & sex) data from each site."
   ]
  },
  {
   "cell_type": "code",
   "execution_count": 1,
   "metadata": {},
   "outputs": [],
   "source": [
    "import pandas as pd\n",
    "import numpy as np\n",
    "import matplotlib.pyplot as plt\n",
    "import seaborn as sns\n",
    "import joypy"
   ]
  },
  {
   "cell_type": "code",
   "execution_count": 2,
   "metadata": {},
   "outputs": [],
   "source": [
    "hcp = pd.read_csv('data/HCP1200_age_gender.csv')"
   ]
  },
  {
   "cell_type": "code",
   "execution_count": 3,
   "metadata": {},
   "outputs": [],
   "source": [
    "cam = pd.read_csv('data/cam_age_gender.csv')"
   ]
  },
  {
   "cell_type": "code",
   "execution_count": 4,
   "metadata": {},
   "outputs": [],
   "source": [
    "cam_hcp = pd.merge(hcp, cam, on=[\"participant_id\", \"age\", \"sex\", \"site\"], how='outer')"
   ]
  },
  {
   "cell_type": "code",
   "execution_count": 5,
   "metadata": {},
   "outputs": [],
   "source": [
    "ixi = pd.read_csv('data/IXI_age_gender.csv')"
   ]
  },
  {
   "cell_type": "code",
   "execution_count": 6,
   "metadata": {},
   "outputs": [
    {
     "name": "stderr",
     "output_type": "stream",
     "text": [
      "/Users/saigerutherford/opt/anaconda3/lib/python3.7/site-packages/pandas/core/reshape/merge.py:1127: UserWarning: You are merging on int and float columns where the float values are not equal to their int representation\n",
      "  UserWarning,\n"
     ]
    }
   ],
   "source": [
    "cov = pd.merge(cam_hcp, ixi, on=[\"participant_id\", \"age\", \"sex\", \"site\"], how='outer')"
   ]
  },
  {
   "cell_type": "code",
   "execution_count": 7,
   "metadata": {},
   "outputs": [],
   "source": [
    "sns.set(font_scale=1.5, style='darkgrid')"
   ]
  },
  {
   "cell_type": "code",
   "execution_count": 8,
   "metadata": {},
   "outputs": [
    {
     "data": {
      "text/plain": [
       "<seaborn.axisgrid.FacetGrid at 0x7ff4a0ee95d0>"
      ]
     },
     "execution_count": 8,
     "metadata": {},
     "output_type": "execute_result"
    },
    {
     "data": {
      "image/png": "[encoded data removed]",
      "text/plain": [
       "<Figure size 522.65x432 with 1 Axes>"
      ]
     },
     "metadata": {},
     "output_type": "display_data"
    }
   ],
   "source": [
    "sns.displot(cov, x=\"age\", hue=\"site\", multiple=\"stack\", height=6)"
   ]
  },
  {
   "cell_type": "code",
   "execution_count": 9,
   "metadata": {},
   "outputs": [
    {
     "data": {
      "text/html": [
       "<div>\n",
       "<style scoped>\n",
       "    .dataframe tbody tr th:only-of-type {\n",
       "        vertical-align: middle;\n",
       "    }\n",
       "\n",
       "    .dataframe tbody tr th {\n",
       "        vertical-align: top;\n",
       "    }\n",
       "\n",
       "    .dataframe thead tr th {\n",
       "        text-align: left;\n",
       "    }\n",
       "\n",
       "    .dataframe thead tr:last-of-type th {\n",
       "        text-align: right;\n",
       "    }\n",
       "</style>\n",
       "<table border=\"1\" class=\"dataframe\">\n",
       "  <thead>\n",
       "    <tr>\n",
       "      <th></th>\n",
       "      <th colspan=\"8\" halign=\"left\">age</th>\n",
       "      <th colspan=\"8\" halign=\"left\">sex</th>\n",
       "    </tr>\n",
       "    <tr>\n",
       "      <th></th>\n",
       "      <th>count</th>\n",
       "      <th>mean</th>\n",
       "      <th>std</th>\n",
       "      <th>min</th>\n",
       "      <th>25%</th>\n",
       "      <th>50%</th>\n",
       "      <th>75%</th>\n",
       "      <th>max</th>\n",
       "      <th>count</th>\n",
       "      <th>mean</th>\n",
       "      <th>std</th>\n",
       "      <th>min</th>\n",
       "      <th>25%</th>\n",
       "      <th>50%</th>\n",
       "      <th>75%</th>\n",
       "      <th>max</th>\n",
       "    </tr>\n",
       "    <tr>\n",
       "      <th>site</th>\n",
       "      <th></th>\n",
       "      <th></th>\n",
       "      <th></th>\n",
       "      <th></th>\n",
       "      <th></th>\n",
       "      <th></th>\n",
       "      <th></th>\n",
       "      <th></th>\n",
       "      <th></th>\n",
       "      <th></th>\n",
       "      <th></th>\n",
       "      <th></th>\n",
       "      <th></th>\n",
       "      <th></th>\n",
       "      <th></th>\n",
       "      <th></th>\n",
       "    </tr>\n",
       "  </thead>\n",
       "  <tbody>\n",
       "    <tr>\n",
       "      <th>cam</th>\n",
       "      <td>656.0</td>\n",
       "      <td>54.419207</td>\n",
       "      <td>18.608285</td>\n",
       "      <td>18.000000</td>\n",
       "      <td>39.000000</td>\n",
       "      <td>55.00000</td>\n",
       "      <td>71.000000</td>\n",
       "      <td>88.00000</td>\n",
       "      <td>656.0</td>\n",
       "      <td>1.504573</td>\n",
       "      <td>0.500361</td>\n",
       "      <td>1.0</td>\n",
       "      <td>1.0</td>\n",
       "      <td>2.0</td>\n",
       "      <td>2.0</td>\n",
       "      <td>2.0</td>\n",
       "    </tr>\n",
       "    <tr>\n",
       "      <th>hcp</th>\n",
       "      <td>1206.0</td>\n",
       "      <td>28.837479</td>\n",
       "      <td>3.690534</td>\n",
       "      <td>22.000000</td>\n",
       "      <td>26.000000</td>\n",
       "      <td>29.00000</td>\n",
       "      <td>32.000000</td>\n",
       "      <td>37.00000</td>\n",
       "      <td>1206.0</td>\n",
       "      <td>1.543947</td>\n",
       "      <td>0.498272</td>\n",
       "      <td>1.0</td>\n",
       "      <td>1.0</td>\n",
       "      <td>2.0</td>\n",
       "      <td>2.0</td>\n",
       "      <td>2.0</td>\n",
       "    </tr>\n",
       "    <tr>\n",
       "      <th>ixi</th>\n",
       "      <td>590.0</td>\n",
       "      <td>49.476531</td>\n",
       "      <td>16.720864</td>\n",
       "      <td>19.980835</td>\n",
       "      <td>34.027721</td>\n",
       "      <td>50.61191</td>\n",
       "      <td>63.413415</td>\n",
       "      <td>86.31896</td>\n",
       "      <td>590.0</td>\n",
       "      <td>1.555932</td>\n",
       "      <td>0.497283</td>\n",
       "      <td>1.0</td>\n",
       "      <td>1.0</td>\n",
       "      <td>2.0</td>\n",
       "      <td>2.0</td>\n",
       "      <td>2.0</td>\n",
       "    </tr>\n",
       "  </tbody>\n",
       "</table>\n",
       "</div>"
      ],
      "text/plain": [
       "         age                                                                   \\\n",
       "       count       mean        std        min        25%       50%        75%   \n",
       "site                                                                            \n",
       "cam    656.0  54.419207  18.608285  18.000000  39.000000  55.00000  71.000000   \n",
       "hcp   1206.0  28.837479   3.690534  22.000000  26.000000  29.00000  32.000000   \n",
       "ixi    590.0  49.476531  16.720864  19.980835  34.027721  50.61191  63.413415   \n",
       "\n",
       "                   sex                                               \n",
       "           max   count      mean       std  min  25%  50%  75%  max  \n",
       "site                                                                 \n",
       "cam   88.00000   656.0  1.504573  0.500361  1.0  1.0  2.0  2.0  2.0  \n",
       "hcp   37.00000  1206.0  1.543947  0.498272  1.0  1.0  2.0  2.0  2.0  \n",
       "ixi   86.31896   590.0  1.555932  0.497283  1.0  1.0  2.0  2.0  2.0  "
      ]
     },
     "execution_count": 9,
     "metadata": {},
     "output_type": "execute_result"
    }
   ],
   "source": [
    "cov.groupby(['site']).describe()"
   ]
  },
  {
   "cell_type": "markdown",
   "metadata": {},
   "source": [
    "# Step 2: Preprare brain data"
   ]
  },
  {
   "cell_type": "markdown",
   "metadata": {},
   "source": [
    "Next we will format and combine the MRI data. We are using cortical thickness maps that are created by running recon-all from Freesurfer 6. We need to merge together the left and right hemisphere text files for each site, and then combine the different sites into a single dataframe. We reduce the dimensionality of our data by using ROIs from the Desikan-Killiany atlas. "
   ]
  },
  {
   "cell_type": "markdown",
   "metadata": {},
   "source": [
    "Here is some psuedo-code (run from a terminal in the folder that has all subject's recon-all output folders) that was used to extract these ROIs:\n",
    "\n",
    "```export SUBJECTS_DIR=/path/to/study/freesurfer_data/```\n",
    "\n",
    "```aparcstats2table --subject sub-* --hemi lh --meas thickness --tablefile HCP1200_aparc_lh_thickness.txt```\n",
    "\n",
    "```aparcstats2table --subject sub-* --hemi rh --meas thickness --tablefile HCP1200_aparc_rh_thickness.txt```"
   ]
  },
  {
   "cell_type": "code",
   "execution_count": 10,
   "metadata": {},
   "outputs": [],
   "source": [
    "# All of the ROIs in the Desikan-Killiany atlas (left & right hemisphere)\n",
    "cols = ['participant_id', 'lh_bankssts_thickness', 'lh_caudalanteriorcingulate_thickness', \n",
    "        'lh_caudalmiddlefrontal_thickness', 'lh_cuneus_thickness',\n",
    "        'lh_entorhinal_thickness', 'lh_fusiform_thickness', 'lh_inferiorparietal_thickness', \n",
    "        'lh_inferiortemporal_thickness', 'lh_isthmuscingulate_thickness', 'lh_lateraloccipital_thickness',\n",
    "        'lh_lateralorbitofrontal_thickness', 'lh_lingual_thickness', 'lh_medialorbitofrontal_thickness', \n",
    "        'lh_middletemporal_thickness', 'lh_parahippocampal_thickness', 'lh_paracentral_thickness',\n",
    "        'lh_parsopercularis_thickness', 'lh_parsorbitalis_thickness', 'lh_parstriangularis_thickness', \n",
    "        'lh_pericalcarine_thickness', 'lh_postcentral_thickness', 'lh_posteriorcingulate_thickness',\n",
    "        'lh_precentral_thickness', 'lh_precuneus_thickness', 'lh_rostralanteriorcingulate_thickness', \n",
    "        'lh_rostralmiddlefrontal_thickness', 'lh_superiorfrontal_thickness',\n",
    "        'lh_superiorparietal_thickness', 'lh_superiortemporal_thickness', 'lh_supramarginal_thickness', \n",
    "        'lh_frontalpole_thickness', 'lh_temporalpole_thickness', 'lh_transversetemporal_thickness',\n",
    "        'lh_insula_thickness', 'lh_MeanThickness_thickness', 'rh_bankssts_thickness', \n",
    "        'rh_caudalanteriorcingulate_thickness', 'rh_caudalmiddlefrontal_thickness', 'rh_cuneus_thickness',\n",
    "        'rh_entorhinal_thickness', 'rh_fusiform_thickness', 'rh_inferiorparietal_thickness', \n",
    "        'rh_inferiortemporal_thickness', 'rh_isthmuscingulate_thickness', 'rh_lateraloccipital_thickness',\n",
    "        'rh_lateralorbitofrontal_thickness', 'rh_lingual_thickness', 'rh_medialorbitofrontal_thickness', \n",
    "        'rh_middletemporal_thickness', 'rh_parahippocampal_thickness', 'rh_paracentral_thickness',\n",
    "        'rh_parsopercularis_thickness', 'rh_parsorbitalis_thickness', 'rh_parstriangularis_thickness', \n",
    "        'rh_pericalcarine_thickness', 'rh_postcentral_thickness', 'rh_posteriorcingulate_thickness',\n",
    "        'rh_precentral_thickness', 'rh_precuneus_thickness', 'rh_rostralanteriorcingulate_thickness', \n",
    "        'rh_rostralmiddlefrontal_thickness', 'rh_superiorfrontal_thickness','rh_superiorparietal_thickness', \n",
    "        'rh_superiortemporal_thickness', 'rh_supramarginal_thickness', 'rh_frontalpole_thickness', \n",
    "        'rh_temporalpole_thickness', 'rh_transversetemporal_thickness', 'rh_insula_thickness', 'rh_MeanThickness_thickness']"
   ]
  },
  {
   "cell_type": "code",
   "execution_count": 11,
   "metadata": {},
   "outputs": [],
   "source": [
    "cam = pd.read_csv('data/CAMCAN_aparc_thickness.csv')"
   ]
  },
  {
   "cell_type": "code",
   "execution_count": 12,
   "metadata": {},
   "outputs": [],
   "source": [
    "hcpya = pd.read_csv('data/HCP1200_aparc_thickness.csv')"
   ]
  },
  {
   "cell_type": "code",
   "execution_count": 13,
   "metadata": {},
   "outputs": [],
   "source": [
    "hcpya_cam = pd.merge(hcpya, cam, on=cols, how='outer')"
   ]
  },
  {
   "cell_type": "code",
   "execution_count": 14,
   "metadata": {},
   "outputs": [],
   "source": [
    "ixi = pd.read_csv('data/IXI_aparc_thickness.csv')"
   ]
  },
  {
   "cell_type": "code",
   "execution_count": 15,
   "metadata": {},
   "outputs": [],
   "source": [
    "brain_all = pd.merge(ixi, hcpya_cam, on=cols, how='outer')"
   ]
  },
  {
   "cell_type": "markdown",
   "metadata": {},
   "source": [
    "We also want to include the [Euler number](https://mathworld.wolfram.com/EulerCharacteristic.html) as a covariate. So we extracted the euler number from each subject's recon-all output folder into a text file and we now need to format and combine these into our brain dataframe. \n",
    "\n",
    "Below is psuedo code for how we extracted the euler number from the recon-all.log for each subject. Run this from the terminal in the folder where your subjects recon-all output folders are located. This assumes that all of your subject IDs start with \"sub-\" prefix.\n",
    "\n",
    "```for i in sub-*; do if [[ -e ${i}/scripts/recon-all.log ]]; then cat ${i}/scripts/recon-all.log | grep -A 1 \"Computing euler\" > temp_log; lh_en=`cat temp_log | head -2 | tail -1 | awk -F '=' '{print $2}' | awk -F ',' '{print $1}'`; rh_en=`cat temp_log | head -2 | tail -1 | awk -F '=' '{print $3}'`; echo \"${i}, ${lh_en}, ${rh_en}\" >> euler.csv; echo ${i}; fi; done```"
   ]
  },
  {
   "cell_type": "code",
   "execution_count": 16,
   "metadata": {},
   "outputs": [],
   "source": [
    "hcp_euler = pd.read_csv('data/hcp-ya_euler.csv')\n",
    "cam_euler = pd.read_csv('data/cam_euler.csv')\n",
    "ixi_euler = pd.read_csv('data/ixi_euler.csv')"
   ]
  },
  {
   "cell_type": "code",
   "execution_count": 17,
   "metadata": {},
   "outputs": [],
   "source": [
    "hcp_euler['site'] = 'hcp'\n",
    "cam_euler['site'] = 'cam'\n",
    "ixi_euler['site'] = 'ixi'"
   ]
  },
  {
   "cell_type": "code",
   "execution_count": 18,
   "metadata": {},
   "outputs": [],
   "source": [
    "hcp_euler.replace(r'^\\s*$', np.nan, regex=True, inplace=True)\n",
    "cam_euler.replace(r'^\\s*$', np.nan, regex=True, inplace=True)\n",
    "ixi_euler.replace(r'^\\s*$', np.nan, regex=True, inplace=True)"
   ]
  },
  {
   "cell_type": "code",
   "execution_count": 19,
   "metadata": {},
   "outputs": [],
   "source": [
    "hcp_euler.dropna(inplace=True)\n",
    "cam_euler.dropna(inplace=True)\n",
    "ixi_euler.dropna(inplace=True)"
   ]
  },
  {
   "cell_type": "code",
   "execution_count": 20,
   "metadata": {},
   "outputs": [],
   "source": [
    "hcp_euler['rh_euler'] = hcp_euler['rh_euler'].astype(int)\n",
    "hcp_euler['lh_euler'] = hcp_euler['lh_euler'].astype(int)\n",
    "cam_euler['rh_euler'] = cam_euler['rh_euler'].astype(int)\n",
    "cam_euler['lh_euler'] = cam_euler['lh_euler'].astype(int)\n",
    "ixi_euler['rh_euler'] = ixi_euler['rh_euler'].astype(int)\n",
    "ixi_euler['lh_euler'] = ixi_euler['lh_euler'].astype(int)"
   ]
  },
  {
   "cell_type": "code",
   "execution_count": 21,
   "metadata": {},
   "outputs": [],
   "source": [
    "hcp_cam_euler = pd.merge(hcp_euler, cam_euler, on=['participant_id', 'lh_euler', 'rh_euler', 'site'], how='outer')"
   ]
  },
  {
   "cell_type": "code",
   "execution_count": 22,
   "metadata": {},
   "outputs": [],
   "source": [
    "df_euler = pd.merge(ixi_euler, hcp_cam_euler, on=['participant_id', 'lh_euler', 'rh_euler', 'site'], how='outer')"
   ]
  },
  {
   "cell_type": "markdown",
   "metadata": {},
   "source": [
    "Finally, we need to center the euler number for each site. The euler number is very site-specific so in order to use the same exclusion threshold across sites we need to center the site by subtracting the site median from all subjects at a site. Then we will take the square root and multiply by negative one and exclude any subjects with a square root above 10. This choice of threshold is fairly random. If possible all of your data should be visually inspected to verify that the data inclusion is not too strict or too lenient. "
   ]
  },
  {
   "cell_type": "code",
   "execution_count": 23,
   "metadata": {},
   "outputs": [],
   "source": [
    "df_euler['avg_euler'] = df_euler[['lh_euler','rh_euler']].mean(axis=1)"
   ]
  },
  {
   "cell_type": "code",
   "execution_count": 24,
   "metadata": {},
   "outputs": [
    {
     "data": {
      "text/html": [
       "<div>\n",
       "<style scoped>\n",
       "    .dataframe tbody tr th:only-of-type {\n",
       "        vertical-align: middle;\n",
       "    }\n",
       "\n",
       "    .dataframe tbody tr th {\n",
       "        vertical-align: top;\n",
       "    }\n",
       "\n",
       "    .dataframe thead th {\n",
       "        text-align: right;\n",
       "    }\n",
       "</style>\n",
       "<table border=\"1\" class=\"dataframe\">\n",
       "  <thead>\n",
       "    <tr style=\"text-align: right;\">\n",
       "      <th></th>\n",
       "      <th>lh_euler</th>\n",
       "      <th>rh_euler</th>\n",
       "      <th>avg_euler</th>\n",
       "    </tr>\n",
       "    <tr>\n",
       "      <th>site</th>\n",
       "      <th></th>\n",
       "      <th></th>\n",
       "      <th></th>\n",
       "    </tr>\n",
       "  </thead>\n",
       "  <tbody>\n",
       "    <tr>\n",
       "      <th>cam</th>\n",
       "      <td>-62</td>\n",
       "      <td>-60</td>\n",
       "      <td>-61.0</td>\n",
       "    </tr>\n",
       "    <tr>\n",
       "      <th>hcp</th>\n",
       "      <td>-44</td>\n",
       "      <td>-44</td>\n",
       "      <td>-43.0</td>\n",
       "    </tr>\n",
       "    <tr>\n",
       "      <th>ixi</th>\n",
       "      <td>-58</td>\n",
       "      <td>-54</td>\n",
       "      <td>-56.0</td>\n",
       "    </tr>\n",
       "  </tbody>\n",
       "</table>\n",
       "</div>"
      ],
      "text/plain": [
       "      lh_euler  rh_euler  avg_euler\n",
       "site                               \n",
       "cam        -62       -60      -61.0\n",
       "hcp        -44       -44      -43.0\n",
       "ixi        -58       -54      -56.0"
      ]
     },
     "execution_count": 24,
     "metadata": {},
     "output_type": "execute_result"
    }
   ],
   "source": [
    "df_euler.groupby(by='site').median()"
   ]
  },
  {
   "cell_type": "code",
   "execution_count": 25,
   "metadata": {},
   "outputs": [],
   "source": [
    "df_euler['site_median'] = df_euler['site']"
   ]
  },
  {
   "cell_type": "code",
   "execution_count": 26,
   "metadata": {},
   "outputs": [],
   "source": [
    "df_euler['site_median'] = df_euler['site_median'].replace({'hcp':-43,'cam':-61,'ixi':-56})"
   ]
  },
  {
   "cell_type": "code",
   "execution_count": 27,
   "metadata": {},
   "outputs": [],
   "source": [
    "df_euler['avg_euler_centered'] = df_euler['avg_euler'] - df_euler['site_median']"
   ]
  },
  {
   "cell_type": "code",
   "execution_count": 28,
   "metadata": {},
   "outputs": [],
   "source": [
    "df_euler['avg_euler_centered_neg'] = df_euler['avg_euler_centered']*-1"
   ]
  },
  {
   "cell_type": "code",
   "execution_count": 29,
   "metadata": {},
   "outputs": [],
   "source": [
    "df_euler['avg_euler_centered_neg_sqrt'] = np.sqrt(np.absolute(df_euler['avg_euler_centered_neg']))"
   ]
  },
  {
   "cell_type": "code",
   "execution_count": 30,
   "metadata": {},
   "outputs": [
    {
     "data": {
      "text/plain": [
       "<function matplotlib.pyplot.show(close=None, block=None)>"
      ]
     },
     "execution_count": 30,
     "metadata": {},
     "output_type": "execute_result"
    },
    {
     "data": {
      "text/plain": [
       "<Figure size 2280x1520 with 0 Axes>"
      ]
     },
     "metadata": {},
     "output_type": "display_data"
    },
    {
     "data": {
      "image/png": "[encoded data removed]",
      "text/plain": [
       "<Figure size 432x432 with 4 Axes>"
      ]
     },
     "metadata": {},
     "output_type": "display_data"
    }
   ],
   "source": [
    "pd.set_option('display.max_rows', 500)\n",
    "pd.set_option('display.max_columns', 500)\n",
    "pd.set_option('display.width', 1000)\n",
    "#create a color gradent function to be used in the colormap parameter\n",
    "def color_gradient(x=0.0, start=(0, 0, 0), stop=(1, 1, 1)):\n",
    "    r = np.interp(x, [0, 1], [start[0], stop[0]])\n",
    "    g = np.interp(x, [0, 1], [start[1], stop[1]])\n",
    "    b = np.interp(x, [0, 1], [start[2], stop[2]])\n",
    "    return r, g, b#show the table\n",
    "#plot the figure\n",
    "plt.figure(dpi=380)\n",
    "fig, axes = joypy.joyplot(df_euler, column=['avg_euler_centered_neg_sqrt'], overlap=2.5, by=\"site\", ylim='own', fill=True, figsize=(6,6)\n",
    "                          , legend=False, xlabels=True, ylabels=True, colormap=lambda x: color_gradient(x, start=(.08, .45, .8),stop=(.8, .34, .44))\n",
    "                          , alpha=0.6, linewidth=.5, linecolor='w', fade=True)\n",
    "plt.title('sqrt(-Euler Number), median centered', fontsize=18, color='black', alpha=1)\n",
    "plt.xlabel('sqrt(-Euler number)', fontsize=14, color='black', alpha=1)\n",
    "plt.ylabel('Site', fontsize=14, color='black', alpha=1)\n",
    "plt.show"
   ]
  },
  {
   "cell_type": "code",
   "execution_count": 31,
   "metadata": {},
   "outputs": [],
   "source": [
    "brain = pd.merge(df_euler, brain_all, on=['participant_id'], how='inner')"
   ]
  },
  {
   "cell_type": "code",
   "execution_count": 32,
   "metadata": {},
   "outputs": [
    {
     "data": {
      "text/plain": [
       "2336"
      ]
     },
     "execution_count": 32,
     "metadata": {},
     "output_type": "execute_result"
    }
   ],
   "source": [
    "len(brain)"
   ]
  },
  {
   "cell_type": "code",
   "execution_count": 33,
   "metadata": {},
   "outputs": [],
   "source": [
    "brain_good = brain.query('avg_euler_centered_neg_sqrt < 10')"
   ]
  },
  {
   "cell_type": "code",
   "execution_count": 34,
   "metadata": {},
   "outputs": [
    {
     "data": {
      "text/plain": [
       "2299"
      ]
     },
     "execution_count": 34,
     "metadata": {},
     "output_type": "execute_result"
    }
   ],
   "source": [
    "len(brain_good)"
   ]
  },
  {
   "cell_type": "markdown",
   "metadata": {},
   "source": [
    "We lose 63 subjects because they have a large euler number."
   ]
  },
  {
   "cell_type": "markdown",
   "metadata": {},
   "source": [
    "# Step 3: Combine covariate & cortical thickness dataframes"
   ]
  },
  {
   "cell_type": "markdown",
   "metadata": {},
   "source": [
    "Even though the normative modeling code needs the covariate and features (cortical thickness) in separate text files, we first need to merge them together to make sure that we have the same subjects in each file and that the rows (representing subjects) align. "
   ]
  },
  {
   "cell_type": "code",
   "execution_count": 35,
   "metadata": {},
   "outputs": [],
   "source": [
    "# make sure to use how=\"inner\" so that we only include subjects that have data in both the covariate and the cortical thickness files \n",
    "all_data = pd.merge(brain_good, cov, on=['participant_id','site'], how='inner')"
   ]
  },
  {
   "cell_type": "markdown",
   "metadata": {},
   "source": [
    "# Step 4: Format dataframes to run normative models"
   ]
  },
  {
   "cell_type": "code",
   "execution_count": 36,
   "metadata": {},
   "outputs": [],
   "source": [
    "from sklearn.model_selection import train_test_split\n",
    "import os\n",
    "from pcntoolkit.normative import estimate, predict, evaluate\n",
    "from pcntoolkit.utils import create_bspline_basis, compute_MSLL"
   ]
  },
  {
   "cell_type": "code",
   "execution_count": 37,
   "metadata": {},
   "outputs": [],
   "source": [
    "# Remove any subjects that have NaN variables in any of the columns\n",
    "all_data.dropna(subset=['lh_bankssts_thickness',\n",
    "       'lh_caudalanteriorcingulate_thickness',\n",
    "       'lh_caudalmiddlefrontal_thickness', 'lh_cuneus_thickness',\n",
    "       'lh_entorhinal_thickness', 'lh_fusiform_thickness',\n",
    "       'lh_inferiorparietal_thickness', 'lh_inferiortemporal_thickness',\n",
    "       'lh_isthmuscingulate_thickness', 'lh_lateraloccipital_thickness',\n",
    "       'lh_lateralorbitofrontal_thickness', 'lh_lingual_thickness',\n",
    "       'lh_medialorbitofrontal_thickness', 'lh_middletemporal_thickness',\n",
    "       'lh_parahippocampal_thickness', 'lh_paracentral_thickness',\n",
    "       'lh_parsopercularis_thickness', 'lh_parsorbitalis_thickness',\n",
    "       'lh_parstriangularis_thickness', 'lh_pericalcarine_thickness',\n",
    "       'lh_postcentral_thickness', 'lh_posteriorcingulate_thickness',\n",
    "       'lh_precentral_thickness', 'lh_precuneus_thickness',\n",
    "       'lh_rostralanteriorcingulate_thickness',\n",
    "       'lh_rostralmiddlefrontal_thickness', 'lh_superiorfrontal_thickness',\n",
    "       'lh_superiorparietal_thickness', 'lh_superiortemporal_thickness',\n",
    "       'lh_supramarginal_thickness', 'lh_frontalpole_thickness',\n",
    "       'lh_temporalpole_thickness', 'lh_transversetemporal_thickness',\n",
    "       'lh_insula_thickness', 'lh_MeanThickness_thickness',\n",
    "       'rh_bankssts_thickness', 'rh_caudalanteriorcingulate_thickness',\n",
    "       'rh_caudalmiddlefrontal_thickness', 'rh_cuneus_thickness',\n",
    "       'rh_entorhinal_thickness', 'rh_fusiform_thickness',\n",
    "       'rh_inferiorparietal_thickness', 'rh_inferiortemporal_thickness',\n",
    "       'rh_isthmuscingulate_thickness', 'rh_lateraloccipital_thickness',\n",
    "       'rh_lateralorbitofrontal_thickness', 'rh_lingual_thickness',\n",
    "       'rh_medialorbitofrontal_thickness', 'rh_middletemporal_thickness',\n",
    "       'rh_parahippocampal_thickness', 'rh_paracentral_thickness',\n",
    "       'rh_parsopercularis_thickness', 'rh_parsorbitalis_thickness',\n",
    "       'rh_parstriangularis_thickness', 'rh_pericalcarine_thickness',\n",
    "       'rh_postcentral_thickness', 'rh_posteriorcingulate_thickness',\n",
    "       'rh_precentral_thickness', 'rh_precuneus_thickness',\n",
    "       'rh_rostralanteriorcingulate_thickness',\n",
    "       'rh_rostralmiddlefrontal_thickness', 'rh_superiorfrontal_thickness',\n",
    "       'rh_superiorparietal_thickness', 'rh_superiortemporal_thickness',\n",
    "       'rh_supramarginal_thickness', 'rh_frontalpole_thickness',\n",
    "       'rh_temporalpole_thickness', 'rh_transversetemporal_thickness',\n",
    "       'rh_insula_thickness', 'rh_MeanThickness_thickness','age','sex'], inplace=True)"
   ]
  },
  {
   "cell_type": "markdown",
   "metadata": {},
   "source": [
    "Separate the covariate & features into their own dataframes"
   ]
  },
  {
   "cell_type": "code",
   "execution_count": 38,
   "metadata": {},
   "outputs": [],
   "source": [
    "all_data_features = all_data[['lh_bankssts_thickness',\n",
    "       'lh_caudalanteriorcingulate_thickness',\n",
    "       'lh_caudalmiddlefrontal_thickness', 'lh_cuneus_thickness',\n",
    "       'lh_entorhinal_thickness', 'lh_fusiform_thickness',\n",
    "       'lh_inferiorparietal_thickness', 'lh_inferiortemporal_thickness',\n",
    "       'lh_isthmuscingulate_thickness', 'lh_lateraloccipital_thickness',\n",
    "       'lh_lateralorbitofrontal_thickness', 'lh_lingual_thickness',\n",
    "       'lh_medialorbitofrontal_thickness', 'lh_middletemporal_thickness',\n",
    "       'lh_parahippocampal_thickness', 'lh_paracentral_thickness',\n",
    "       'lh_parsopercularis_thickness', 'lh_parsorbitalis_thickness',\n",
    "       'lh_parstriangularis_thickness', 'lh_pericalcarine_thickness',\n",
    "       'lh_postcentral_thickness', 'lh_posteriorcingulate_thickness',\n",
    "       'lh_precentral_thickness', 'lh_precuneus_thickness',\n",
    "       'lh_rostralanteriorcingulate_thickness',\n",
    "       'lh_rostralmiddlefrontal_thickness', 'lh_superiorfrontal_thickness',\n",
    "       'lh_superiorparietal_thickness', 'lh_superiortemporal_thickness',\n",
    "       'lh_supramarginal_thickness', 'lh_frontalpole_thickness',\n",
    "       'lh_temporalpole_thickness', 'lh_transversetemporal_thickness',\n",
    "       'lh_insula_thickness', 'lh_MeanThickness_thickness',\n",
    "       'rh_bankssts_thickness', 'rh_caudalanteriorcingulate_thickness',\n",
    "       'rh_caudalmiddlefrontal_thickness', 'rh_cuneus_thickness',\n",
    "       'rh_entorhinal_thickness', 'rh_fusiform_thickness',\n",
    "       'rh_inferiorparietal_thickness', 'rh_inferiortemporal_thickness',\n",
    "       'rh_isthmuscingulate_thickness', 'rh_lateraloccipital_thickness',\n",
    "       'rh_lateralorbitofrontal_thickness', 'rh_lingual_thickness',\n",
    "       'rh_medialorbitofrontal_thickness', 'rh_middletemporal_thickness',\n",
    "       'rh_parahippocampal_thickness', 'rh_paracentral_thickness',\n",
    "       'rh_parsopercularis_thickness', 'rh_parsorbitalis_thickness',\n",
    "       'rh_parstriangularis_thickness', 'rh_pericalcarine_thickness',\n",
    "       'rh_postcentral_thickness', 'rh_posteriorcingulate_thickness',\n",
    "       'rh_precentral_thickness', 'rh_precuneus_thickness',\n",
    "       'rh_rostralanteriorcingulate_thickness',\n",
    "       'rh_rostralmiddlefrontal_thickness', 'rh_superiorfrontal_thickness',\n",
    "       'rh_superiorparietal_thickness', 'rh_superiortemporal_thickness',\n",
    "       'rh_supramarginal_thickness', 'rh_frontalpole_thickness',\n",
    "       'rh_temporalpole_thickness', 'rh_transversetemporal_thickness',\n",
    "       'rh_insula_thickness', 'rh_MeanThickness_thickness']]"
   ]
  },
  {
   "cell_type": "code",
   "execution_count": 39,
   "metadata": {},
   "outputs": [],
   "source": [
    "all_data_covariates = all_data[['age','sex','site']]"
   ]
  },
  {
   "cell_type": "markdown",
   "metadata": {},
   "source": [
    "Right now, the sites are coded in a single column using a string. We need to instead dummy encode the site variable so that there is a column for each site and the columns contain binary variables (0/1). Luckily pandas has a nice built in function, ```pd.get_dummies``` to help us format the site column this way!"
   ]
  },
  {
   "cell_type": "code",
   "execution_count": 40,
   "metadata": {},
   "outputs": [],
   "source": [
    "all_data_covariates = pd.get_dummies(all_data_covariates, columns=['site'])"
   ]
  },
  {
   "cell_type": "code",
   "execution_count": 41,
   "metadata": {},
   "outputs": [],
   "source": [
    "all_data['Average_Thickness'] = all_data[['lh_MeanThickness_thickness','rh_MeanThickness_thickness']].mean(axis=1)"
   ]
  },
  {
   "cell_type": "markdown",
   "metadata": {},
   "source": [
    "Take a sneak peak to see if there are any super obvious site effects. If there were, we would see a large separation in the fitted regression line for each site."
   ]
  },
  {
   "cell_type": "code",
   "execution_count": 42,
   "metadata": {},
   "outputs": [
    {
     "data": {
      "image/png": "[encoded data removed]",
      "text/plain": [
       "<Figure size 522.65x432 with 1 Axes>"
      ]
     },
     "metadata": {},
     "output_type": "display_data"
    }
   ],
   "source": [
    "sns.set_theme(style=\"darkgrid\",font_scale=1.5)\n",
    "c = sns.lmplot(data=all_data, x=\"age\", y=\"Average_Thickness\", hue=\"site\", height=6)\n",
    "plt.ylim(1.5, 3.25)\n",
    "plt.xlim(15, 95)\n",
    "plt.show()"
   ]
  },
  {
   "cell_type": "markdown",
   "metadata": {},
   "source": [
    "## Create train/test split"
   ]
  },
  {
   "cell_type": "markdown",
   "metadata": {},
   "source": [
    "We will use 80% of the data for training and 20% for testing. We stratify our train/test split using the site variable to make sure that the train/test sets both contain data from all sites. The model wouldn't learn the site effects if all of the data from one site was only in the test set."
   ]
  },
  {
   "cell_type": "code",
   "execution_count": 43,
   "metadata": {},
   "outputs": [],
   "source": [
    "X_train, X_test, y_train, y_test = train_test_split(all_data_covariates, all_data_features, stratify=all_data['site'], test_size=0.2, random_state=42)"
   ]
  },
  {
   "cell_type": "markdown",
   "metadata": {},
   "source": [
    "Verify that your train & test arrays are the same size"
   ]
  },
  {
   "cell_type": "code",
   "execution_count": 44,
   "metadata": {},
   "outputs": [
    {
     "name": "stdout",
     "output_type": "stream",
     "text": [
      "Train covariate size is:  (1844, 5)\n",
      "Test covariate size is:  (462, 5)\n",
      "Train response size is:  (1844, 70)\n",
      "Test response size is:  (462, 70)\n"
     ]
    }
   ],
   "source": [
    "tr_cov_size = X_train.shape\n",
    "tr_resp_size = y_train.shape\n",
    "te_cov_size = X_test.shape\n",
    "te_resp_size = y_test.shape\n",
    "print(\"Train covariate size is: \", tr_cov_size)\n",
    "print(\"Test covariate size is: \", te_cov_size)\n",
    "print(\"Train response size is: \", tr_resp_size)\n",
    "print(\"Test response size is: \", te_resp_size)"
   ]
  },
  {
   "cell_type": "markdown",
   "metadata": {},
   "source": [
    "### Save out each ROI to its own file"
   ]
  },
  {
   "cell_type": "markdown",
   "metadata": {},
   "source": [
    "We setup the normative model so that for each Y (brain region) we fit a separate model. While the estimate function in the pcntoolkit can handle having all of the Y's in a single text file, for this tutorial we are going to organize our Y's so that they are each in their own text file and directory. "
   ]
  },
  {
   "cell_type": "code",
   "execution_count": 46,
   "metadata": {},
   "outputs": [],
   "source": [
    "for c in y_train.columns:\n",
    "    y_train[c].to_csv('resp_tr_' + c + '.txt', header=False, index=False)"
   ]
  },
  {
   "cell_type": "code",
   "execution_count": 45,
   "metadata": {},
   "outputs": [],
   "source": [
    "X_train.to_csv('cov_tr.txt', sep = '\\t', header=False, index = False)"
   ]
  },
  {
   "cell_type": "code",
   "execution_count": 46,
   "metadata": {},
   "outputs": [],
   "source": [
    "y_train.to_csv('resp_tr.txt', sep = '\\t', header=False, index = False)"
   ]
  },
  {
   "cell_type": "code",
   "execution_count": 48,
   "metadata": {},
   "outputs": [],
   "source": [
    "for c in y_test.columns:\n",
    "    y_test[c].to_csv('resp_te_' + c + '.txt', header=False, index=False)"
   ]
  },
  {
   "cell_type": "code",
   "execution_count": 47,
   "metadata": {},
   "outputs": [],
   "source": [
    "X_test.to_csv('cov_te.txt', sep = '\\t', header=False, index = False)"
   ]
  },
  {
   "cell_type": "code",
   "execution_count": 48,
   "metadata": {},
   "outputs": [],
   "source": [
    "y_test.to_csv('resp_te.txt', sep = '\\t', header=False, index = False)"
   ]
  },
  {
   "cell_type": "code",
   "execution_count": 50,
   "metadata": {},
   "outputs": [],
   "source": [
    "! if [[ ! -e ROI_models/ ]]; then mkdir ROI_models; fi"
   ]
  },
  {
   "cell_type": "code",
   "execution_count": 51,
   "metadata": {},
   "outputs": [],
   "source": [
    "! for i in `cat data/roi_dir_names`; do cd ROI_models; mkdir ${i}; cd ../; cp resp_tr_${i}.txt ROI_models/${i}/resp_tr.txt; cp resp_te_${i}.txt ROI_models/${i}/resp_te.txt; cp cov_tr.txt ROI_models/${i}/cov_tr.txt; cp cov_te.txt ROI_models/${i}/cov_te.txt; done "
   ]
  },
  {
   "cell_type": "code",
   "execution_count": 49,
   "metadata": {},
   "outputs": [],
   "source": [
    "! mv resp_*.txt data/response_files/"
   ]
  },
  {
   "cell_type": "code",
   "execution_count": 50,
   "metadata": {},
   "outputs": [],
   "source": [
    "! mv cov_t*.txt data/covariate_files/"
   ]
  }
 ],
 "metadata": {
  "kernelspec": {
   "display_name": "Python 3",
   "language": "python",
   "name": "python3"
  },
  "language_info": {
   "codemirror_mode": {
    "name": "ipython",
    "version": 3
   },
   "file_extension": ".py",
   "mimetype": "text/x-python",
   "name": "python",
   "nbconvert_exporter": "python",
   "pygments_lexer": "ipython3",
   "version": "3.7.4"
  }
 },
 "nbformat": 4,
 "nbformat_minor": 4
}

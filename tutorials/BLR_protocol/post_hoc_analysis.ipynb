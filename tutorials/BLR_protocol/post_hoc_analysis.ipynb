{
 "cells": [
  {
   "cell_type": "markdown",
   "metadata": {
    "id": "hnjOHEPnSgqZ"
   },
   "source": [
    "# SVM classification SZ vs. HC "
   ]
  },
  {
   "cell_type": "markdown",
   "metadata": {
    "id": "T1dgnArWand-"
   },
   "source": [
    "Classify schizophrenia group from controls using cortical thickness deviation scores (z-scores) and then the true cortical thickness data to see which type of data better separates the groups."
   ]
  },
  {
   "cell_type": "code",
   "execution_count": null,
   "metadata": {},
   "outputs": [],
   "source": [
    "! git clone https://github.com/predictive-clinical-neuroscience/PCNtoolkit-demo.git"
   ]
  },
  {
   "cell_type": "code",
   "execution_count": null,
   "metadata": {
    "id": "oer08RX7Sgqc"
   },
   "outputs": [],
   "source": [
    "import pandas as pd\n",
    "import numpy as np\n",
    "import os\n",
    "import matplotlib.pyplot as plt\n",
    "os.chdir('/content/PCNtoolkit-demo/')"
   ]
  },
  {
   "cell_type": "code",
   "execution_count": null,
   "metadata": {
    "id": "kBA6wv5_Sgqd"
   },
   "outputs": [],
   "source": [
    "Z_df = pd.read_csv('data/fcon1000_te_Z.csv')"
   ]
  },
  {
   "cell_type": "code",
   "execution_count": null,
   "metadata": {
    "id": "_AtT_a9QSgqe"
   },
   "outputs": [],
   "source": [
    "from sklearn import svm\n",
    "from sklearn.metrics import auc\n",
    "from sklearn.metrics import plot_roc_curve\n",
    "from sklearn.model_selection import StratifiedKFold"
   ]
  },
  {
   "cell_type": "code",
   "execution_count": null,
   "metadata": {
    "id": "0m3frZSqWHFt"
   },
   "outputs": [],
   "source": [
    "Z_df.dropna(subset=['group'], inplace=True)"
   ]
  },
  {
   "cell_type": "code",
   "execution_count": null,
   "metadata": {
    "id": "reWNrhN6Wge0"
   },
   "outputs": [],
   "source": [
    "Z_df['group'] = Z_df['group'].replace(\"SZ\",0)"
   ]
  },
  {
   "cell_type": "code",
   "execution_count": null,
   "metadata": {
    "id": "LuddguUsW_UI"
   },
   "outputs": [],
   "source": [
    "Z_df['group'] = Z_df['group'].replace(\"Control\",1)"
   ]
  },
  {
   "cell_type": "code",
   "execution_count": null,
   "metadata": {
    "id": "wBuQvJKqVz0p"
   },
   "outputs": [],
   "source": [
    "deviations = Z_df.loc[:, Z_df.columns.str.contains('Z_predict')]"
   ]
  },
  {
   "cell_type": "code",
   "execution_count": null,
   "metadata": {
    "id": "QZvu0iXlZg7P"
   },
   "outputs": [],
   "source": [
    "cortical_thickness = Z_df.loc[:, Z_df.columns.str.endswith('_thickness')]"
   ]
  },
  {
   "cell_type": "code",
   "execution_count": null,
   "metadata": {
    "id": "HECqM4rZVcD9"
   },
   "outputs": [],
   "source": [
    "# Data IO and generation\n",
    "X1 = deviations\n",
    "X2 = cortical_thickness\n",
    "y = Z_df['group']\n",
    "n_samples, n_features = X1.shape\n",
    "random_state = np.random.RandomState(0)"
   ]
  },
  {
   "cell_type": "code",
   "execution_count": null,
   "metadata": {
    "id": "iho4wkAESgqf"
   },
   "outputs": [],
   "source": [
    "X1 = X1.to_numpy()"
   ]
  },
  {
   "cell_type": "code",
   "execution_count": null,
   "metadata": {
    "id": "zi7v5e8vZ0Ms"
   },
   "outputs": [],
   "source": [
    "X2 = X2.to_numpy()"
   ]
  },
  {
   "cell_type": "code",
   "execution_count": null,
   "metadata": {
    "id": "xcA4w73TSgqf"
   },
   "outputs": [],
   "source": [
    "y = y.astype(int)"
   ]
  },
  {
   "cell_type": "code",
   "execution_count": null,
   "metadata": {
    "id": "mKcM-dA3ZG_u"
   },
   "outputs": [],
   "source": [
    "y = y.to_numpy()"
   ]
  },
  {
   "cell_type": "markdown",
   "metadata": {
    "tags": []
   },
   "source": [
    "## Deviation scores as features"
   ]
  },
  {
   "cell_type": "code",
   "execution_count": null,
   "metadata": {
    "id": "NNRcb-pvSgqf"
   },
   "outputs": [],
   "source": [
    "# #############################################################################\n",
    "# Classification and ROC analysis\n",
    "\n",
    "# Run classifier with cross-validation and plot ROC curves\n",
    "cv = StratifiedKFold(n_splits=5)\n",
    "classifier = svm.SVC(kernel='linear', probability=True,\n",
    "                     random_state=random_state)\n",
    "\n",
    "tprs = []\n",
    "aucs = []\n",
    "mean_fpr = np.linspace(0, 1, 100)\n",
    "\n",
    "fig, ax = plt.subplots(figsize=(15,15))\n",
    "parameters = {'axes.labelsize': 20,\n",
    "          'axes.titlesize': 25, 'xtick.labelsize':16,'ytick.labelsize':16,'legend.fontsize':14,'legend.title_fontsize':16}\n",
    "plt.rcParams.update(parameters)\n",
    "\n",
    "for i, (train, test) in enumerate(cv.split(X1, y)):\n",
    "    classifier.fit(X1[train], y[train])\n",
    "    viz = plot_roc_curve(classifier, X1[test], y[test],\n",
    "                         name='ROC fold {}'.format(i),\n",
    "                         alpha=0.3, lw=1, ax=ax)\n",
    "    interp_tpr = np.interp(mean_fpr, viz.fpr, viz.tpr)\n",
    "    interp_tpr[0] = 0.0\n",
    "    tprs.append(interp_tpr)\n",
    "    aucs.append(viz.roc_auc)\n",
    "\n",
    "ax.plot([0, 1], [0, 1], linestyle='--', lw=2, color='r',\n",
    "        label='Chance', alpha=.8)\n",
    "\n",
    "mean_tpr = np.mean(tprs, axis=0)\n",
    "mean_tpr[-1] = 1.0\n",
    "mean_auc = auc(mean_fpr, mean_tpr)\n",
    "std_auc = np.std(aucs)\n",
    "ax.plot(mean_fpr, mean_tpr, color='b',\n",
    "        label=r'Mean ROC (AUC = %0.2f $\\pm$ %0.2f)' % (mean_auc, std_auc),\n",
    "        lw=2, alpha=.8)\n",
    "\n",
    "std_tpr = np.std(tprs, axis=0)\n",
    "tprs_upper = np.minimum(mean_tpr + std_tpr, 1)\n",
    "tprs_lower = np.maximum(mean_tpr - std_tpr, 0)\n",
    "ax.fill_between(mean_fpr, tprs_lower, tprs_upper, color='grey', alpha=.2,\n",
    "                label=r'$\\pm$ 1 std. dev.')\n",
    "\n",
    "ax.set(xlim=[-0.05, 1.05], ylim=[-0.05, 1.05])\n",
    "ax.set_title('Receiver operating characteristic SZ vs. HC (deviations)', fontweight=\"bold\", size=20)\n",
    "ax.legend(loc=\"lower right\")\n",
    "plt.show()"
   ]
  },
  {
   "cell_type": "markdown",
   "metadata": {
    "tags": []
   },
   "source": [
    "## Raw cortical thickness data as features"
   ]
  },
  {
   "cell_type": "code",
   "execution_count": null,
   "metadata": {
    "id": "WYPilmZOaNgs"
   },
   "outputs": [],
   "source": [
    "# #############################################################################\n",
    "# Classification and ROC analysis\n",
    "\n",
    "# Run classifier with cross-validation and plot ROC curves\n",
    "cv = StratifiedKFold(n_splits=5)\n",
    "classifier = svm.SVC(kernel='linear', probability=True,\n",
    "                     random_state=random_state)\n",
    "\n",
    "tprs = []\n",
    "aucs = []\n",
    "mean_fpr = np.linspace(0, 1, 100)\n",
    "\n",
    "fig, ax = plt.subplots(figsize=(15,15))\n",
    "parameters = {'axes.labelsize': 20,\n",
    "          'axes.titlesize': 25, 'xtick.labelsize':16,'ytick.labelsize':16,'legend.fontsize':14,'legend.title_fontsize':16}\n",
    "plt.rcParams.update(parameters)\n",
    "\n",
    "for i, (train, test) in enumerate(cv.split(X2, y)):\n",
    "    classifier.fit(X2[train], y[train])\n",
    "    viz = plot_roc_curve(classifier, X2[test], y[test],\n",
    "                         name='ROC fold {}'.format(i),\n",
    "                         alpha=0.3, lw=1, ax=ax)\n",
    "    interp_tpr = np.interp(mean_fpr, viz.fpr, viz.tpr)\n",
    "    interp_tpr[0] = 0.0\n",
    "    tprs.append(interp_tpr)\n",
    "    aucs.append(viz.roc_auc)\n",
    "\n",
    "ax.plot([0, 1], [0, 1], linestyle='--', lw=2, color='r',\n",
    "        label='Chance', alpha=.8)\n",
    "\n",
    "mean_tpr = np.mean(tprs, axis=0)\n",
    "mean_tpr[-1] = 1.0\n",
    "mean_auc = auc(mean_fpr, mean_tpr)\n",
    "std_auc = np.std(aucs)\n",
    "ax.plot(mean_fpr, mean_tpr, color='b',\n",
    "        label=r'Mean ROC (AUC = %0.2f $\\pm$ %0.2f)' % (mean_auc, std_auc),\n",
    "        lw=2, alpha=.8)\n",
    "\n",
    "std_tpr = np.std(tprs, axis=0)\n",
    "tprs_upper = np.minimum(mean_tpr + std_tpr, 1)\n",
    "tprs_lower = np.maximum(mean_tpr - std_tpr, 0)\n",
    "ax.fill_between(mean_fpr, tprs_lower, tprs_upper, color='grey', alpha=.2,\n",
    "                label=r'$\\pm$ 1 std. dev.')\n",
    "\n",
    "ax.set(xlim=[-0.05, 1.05], ylim=[-0.05, 1.05])\n",
    "ax.set_title('Receiver operating characteristic SZ vs. HC (cortical thickness)', fontweight=\"bold\", size=20)\n",
    "ax.legend(loc=\"lower right\")\n",
    "plt.show()"
   ]
  },
  {
   "cell_type": "markdown",
   "metadata": {
    "id": "Y9iIgxR1YMzq"
   },
   "source": [
    "Which brain feature leads to a better classification between SZ & HC? "
   ]
  },
  {
   "cell_type": "markdown",
   "metadata": {},
   "source": [
    "# Classical case-control testing"
   ]
  },
  {
   "cell_type": "code",
   "execution_count": null,
   "metadata": {},
   "outputs": [],
   "source": [
    "from scipy.stats import ttest_ind"
   ]
  },
  {
   "cell_type": "code",
   "execution_count": 8,
   "metadata": {
    "tags": []
   },
   "outputs": [],
   "source": [
    "from statsmodels.stats._knockoff import RegressionFDR\n",
    "\n",
    "def fdrcorrection(pvals, alpha=0.05, method='indep', is_sorted=False):\n",
    "    '''pvalue correction for false discovery rate\n",
    "\n",
    "    This covers Benjamini/Hochberg for independent or positively correlated and\n",
    "    Benjamini/Yekutieli for general or negatively correlated tests. Both are\n",
    "    available in the function multipletests, as method=`fdr_bh`, resp. `fdr_by`.\n",
    "\n",
    "    Parameters\n",
    "    ----------\n",
    "    pvals : array_like\n",
    "        set of p-values of the individual tests.\n",
    "    alpha : float\n",
    "        error rate\n",
    "    method : {'indep', 'negcorr'}\n",
    "    is_sorted : bool\n",
    "        If False (default), the p_values will be sorted, but the corrected\n",
    "        pvalues are in the original order. If True, then it assumed that the\n",
    "        pvalues are already sorted in ascending order.\n",
    "\n",
    "    Returns\n",
    "    -------\n",
    "    rejected : ndarray, bool\n",
    "        True if a hypothesis is rejected, False if not\n",
    "    pvalue-corrected : ndarray\n",
    "        pvalues adjusted for multiple hypothesis testing to limit FDR\n",
    "\n",
    "    Notes\n",
    "    -----\n",
    "\n",
    "    If there is prior information on the fraction of true hypothesis, then alpha\n",
    "    should be set to alpha * m/m_0 where m is the number of tests,\n",
    "    given by the p-values, and m_0 is an estimate of the true hypothesis.\n",
    "    (see Benjamini, Krieger and Yekuteli)\n",
    "\n",
    "    The two-step method of Benjamini, Krieger and Yekutiel that estimates the number\n",
    "    of false hypotheses will be available (soon).\n",
    "\n",
    "    Method names can be abbreviated to first letter, 'i' or 'p' for fdr_bh and 'n' for\n",
    "    fdr_by.\n",
    "\n",
    "\n",
    "\n",
    "    '''\n",
    "    pvals = np.asarray(pvals)\n",
    "\n",
    "    if not is_sorted:\n",
    "        pvals_sortind = np.argsort(pvals)\n",
    "        pvals_sorted = np.take(pvals, pvals_sortind)\n",
    "    else:\n",
    "        pvals_sorted = pvals  # alias\n",
    "\n",
    "    if method in ['i', 'indep', 'p', 'poscorr']:\n",
    "        ecdffactor = _ecdf(pvals_sorted)\n",
    "    elif method in ['n', 'negcorr']:\n",
    "        cm = np.sum(1./np.arange(1, len(pvals_sorted)+1))   #corrected this\n",
    "        ecdffactor = _ecdf(pvals_sorted) / cm\n",
    "\n",
    "    else:\n",
    "        raise ValueError('only indep and negcorr implemented')\n",
    "    reject = pvals_sorted <= ecdffactor*alpha\n",
    "    if reject.any():\n",
    "        rejectmax = max(np.nonzero(reject)[0])\n",
    "        reject[:rejectmax] = True\n",
    "\n",
    "    pvals_corrected_raw = pvals_sorted / ecdffactor\n",
    "    pvals_corrected = np.minimum.accumulate(pvals_corrected_raw[::-1])[::-1]\n",
    "    del pvals_corrected_raw\n",
    "    pvals_corrected[pvals_corrected>1] = 1\n",
    "    if not is_sorted:\n",
    "        pvals_corrected_ = np.empty_like(pvals_corrected)\n",
    "        pvals_corrected_[pvals_sortind] = pvals_corrected\n",
    "        del pvals_corrected\n",
    "        reject_ = np.empty_like(reject)\n",
    "        reject_[pvals_sortind] = reject\n",
    "        return reject_, pvals_corrected_\n",
    "    else:\n",
    "        return reject, pvals_corrected\n",
    "\n"
   ]
  },
  {
   "cell_type": "code",
   "execution_count": null,
   "metadata": {},
   "outputs": [],
   "source": [
    "SZ = Z_df.query('group == 0')\n",
    "HC = Z_df.query('group == 1')"
   ]
  },
  {
   "cell_type": "markdown",
   "metadata": {},
   "source": [
    "### Mass univariate two sample t-tests on deviation score maps"
   ]
  },
  {
   "cell_type": "code",
   "execution_count": null,
   "metadata": {
    "id": "wBuQvJKqVz0p"
   },
   "outputs": [],
   "source": [
    "SZ_deviations = SZ.loc[:, SZ.columns.str.contains('Z_predict')]"
   ]
  },
  {
   "cell_type": "code",
   "execution_count": null,
   "metadata": {
    "id": "wBuQvJKqVz0p"
   },
   "outputs": [],
   "source": [
    "HC_deviations = HC.loc[:, HC.columns.str.contains('Z_predict')]"
   ]
  },
  {
   "cell_type": "code",
   "execution_count": 56,
   "metadata": {},
   "outputs": [],
   "source": [
    "z_cols = SZ_deviations.columns"
   ]
  },
  {
   "cell_type": "code",
   "execution_count": 7,
   "metadata": {},
   "outputs": [],
   "source": [
    "sz_hc_pvals_z = pd.DataFrame(columns={'roi','pval', 'tstat','fdr_pval'})\n",
    "for index, column in enumerate(z_cols):\n",
    "    test = ttest_ind(SZ_deviations[column], HC_deviations[column])\n",
    "    sz_hc_pvals_z.loc[index, 'pval'] = test.pvalue\n",
    "    sz_hc_pvals_z.loc[index, 'tstat'] = test.statistic\n",
    "    sz_hc_pvals_z.loc[index, 'roi'] = column"
   ]
  },
  {
   "cell_type": "code",
   "execution_count": 9,
   "metadata": {},
   "outputs": [],
   "source": [
    "sz_hc_fdr_z = fdrcorrection(sz_hc_pvals_z['pval'], alpha=0.05, method='indep', is_sorted=False)"
   ]
  },
  {
   "cell_type": "code",
   "execution_count": 10,
   "metadata": {},
   "outputs": [],
   "source": [
    "sz_hc_pvals_z['fdr_pval'] = sz_hc_fdr_z[1]"
   ]
  },
  {
   "cell_type": "code",
   "execution_count": 14,
   "metadata": {},
   "outputs": [],
   "source": [
    "sz_hc_z_sig_diff = sz_hc_pvals_z.query('pval < 0.05')"
   ]
  },
  {
   "cell_type": "code",
   "execution_count": null,
   "metadata": {},
   "outputs": [],
   "source": [
    "sz_hc_z_sig_diff"
   ]
  },
  {
   "cell_type": "code",
   "execution_count": null,
   "metadata": {},
   "outputs": [],
   "source": [
    "sz_hc_z_sig_diff.shape"
   ]
  },
  {
   "cell_type": "markdown",
   "metadata": {},
   "source": [
    "### Mass univariate two sample t-tests on deviation score maps and true cortical thickness data"
   ]
  },
  {
   "cell_type": "code",
   "execution_count": null,
   "metadata": {
    "id": "QZvu0iXlZg7P"
   },
   "outputs": [],
   "source": [
    "SZ_cortical_thickness = SZ.loc[:, SZ.columns.str.endswith('_thickness')]"
   ]
  },
  {
   "cell_type": "code",
   "execution_count": null,
   "metadata": {
    "id": "QZvu0iXlZg7P"
   },
   "outputs": [],
   "source": [
    "HC_cortical_thickness = HC.loc[:, HC.columns.str.endswith('_thickness')]"
   ]
  },
  {
   "cell_type": "code",
   "execution_count": 56,
   "metadata": {},
   "outputs": [],
   "source": [
    "ct_cols = SZ_cortical_thickness.columns"
   ]
  },
  {
   "cell_type": "code",
   "execution_count": 7,
   "metadata": {},
   "outputs": [],
   "source": [
    "sz_hc_pvals_ct = pd.DataFrame(columns={'roi','pval', 'tstat','fdr_pval'})\n",
    "for index, column in enumerate(ct_cols):\n",
    "    test = ttest_ind(SZ_cortical_thickness[column], HC_cortical_thickness[column])\n",
    "    sz_hc_pvals_ct.loc[index, 'pval'] = test.pvalue\n",
    "    sz_hc_pvals_ct.loc[index, 'tstat'] = test.statistic\n",
    "    sz_hc_pvals_ct.loc[index, 'roi'] = column"
   ]
  },
  {
   "cell_type": "code",
   "execution_count": 9,
   "metadata": {},
   "outputs": [],
   "source": [
    "sz_hc_fdr_ct = fdrcorrection(sz_hc_pvals_ct['pval'], alpha=0.05, method='indep', is_sorted=False)"
   ]
  },
  {
   "cell_type": "code",
   "execution_count": 10,
   "metadata": {},
   "outputs": [],
   "source": [
    "sz_hc_pvals_ct['fdr_pval'] = sz_hc_fdr_ct[1]"
   ]
  },
  {
   "cell_type": "code",
   "execution_count": 14,
   "metadata": {},
   "outputs": [],
   "source": [
    "sz_hc_ct_sig_diff = sz_hc_pvals_ct.query('pval < 0.05')"
   ]
  },
  {
   "cell_type": "code",
   "execution_count": null,
   "metadata": {},
   "outputs": [],
   "source": [
    "sz_hc_ct_sig_diff"
   ]
  },
  {
   "cell_type": "code",
   "execution_count": null,
   "metadata": {},
   "outputs": [],
   "source": [
    "sz_hc_ct_sig_diff.shape"
   ]
  }
 ],
 "metadata": {
  "colab": {
   "name": "4_post_hoc_analysis.ipynb",
   "provenance": []
  },
  "kernelspec": {
   "display_name": "Python 3 (ipykernel)",
   "language": "python",
   "name": "python3"
  },
  "language_info": {
   "codemirror_mode": {
    "name": "ipython",
    "version": 3
   },
   "file_extension": ".py",
   "mimetype": "text/x-python",
   "name": "python",
   "nbconvert_exporter": "python",
   "pygments_lexer": "ipython3",
   "version": "3.8.12"
  }
 },
 "nbformat": 4,
 "nbformat_minor": 4
}
